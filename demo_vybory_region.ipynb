{
 "cells": [
  {
   "cell_type": "code",
   "execution_count": 2,
   "metadata": {},
   "outputs": [
    {
     "name": "stdout",
     "output_type": "stream",
     "text": [
      "Введите ссылку на страницу с результами выборовhttp://www.vladimir.vybory.izbirkom.ru/region/region/vladimir?action=show&root=1&tvd=2332000994106&vrn=2332000993540&region=33&global=&sub_region=33&prver=0&pronetvd=null&vibid=2332000994106&type=222\n"
     ]
    },
    {
     "data": {
      "text/html": [
       "<div>\n",
       "<style scoped>\n",
       "    .dataframe tbody tr th:only-of-type {\n",
       "        vertical-align: middle;\n",
       "    }\n",
       "\n",
       "    .dataframe tbody tr th {\n",
       "        vertical-align: top;\n",
       "    }\n",
       "\n",
       "    .dataframe thead th {\n",
       "        text-align: right;\n",
       "    }\n",
       "</style>\n",
       "<table border=\"1\" class=\"dataframe\">\n",
       "  <thead>\n",
       "    <tr style=\"text-align: right;\">\n",
       "      <th></th>\n",
       "      <th>index</th>\n",
       "      <th>tik</th>\n",
       "      <th>Число избирателей, внесенных в список на момент окончания голосования</th>\n",
       "      <th>Число бюллетеней, полученных участковой комиссией</th>\n",
       "      <th>Число бюллетеней, выданных избирателям, проголосовавшим досрочно, в том числе:</th>\n",
       "      <th>число бюллетеней, выданных избирателям, проголосовавшим досрочно в помещении территориальной комиссии</th>\n",
       "      <th>Число бюллетеней, выданных избирателям в помещении для голосования в день голосования</th>\n",
       "      <th>Число бюллетеней, выданных избирателям, проголосовавшим вне помещения для голосования в день голосования</th>\n",
       "      <th>Число погашенных бюллетеней</th>\n",
       "      <th>Число бюллетеней, содержащихся в переносных ящиках для голосования</th>\n",
       "      <th>Число бюллетеней, содержащихся в стационарных ящиках для голосования</th>\n",
       "      <th>Число недействительных бюллетеней</th>\n",
       "      <th>Число действительных бюллетеней</th>\n",
       "      <th>Число утраченных бюллетеней</th>\n",
       "      <th>Число бюллетеней, не учтенных при получении</th>\n",
       "      <th>tik</th>\n",
       "      <th>Орлова Светлана Юрьевна</th>\n",
       "      <th>Сипягин Владимир Владимирович</th>\n",
       "    </tr>\n",
       "  </thead>\n",
       "  <tbody>\n",
       "    <tr>\n",
       "      <td>1</td>\n",
       "      <td>2</td>\n",
       "      <td>Сумма</td>\n",
       "      <td>1134328</td>\n",
       "      <td>1023335</td>\n",
       "      <td>0</td>\n",
       "      <td>0</td>\n",
       "      <td>392247</td>\n",
       "      <td>42037</td>\n",
       "      <td>589051</td>\n",
       "      <td>42028</td>\n",
       "      <td>392159</td>\n",
       "      <td>23918</td>\n",
       "      <td>410269</td>\n",
       "      <td>0</td>\n",
       "      <td>0</td>\n",
       "      <td>NaN</td>\n",
       "      <td>162639 37.46%</td>\n",
       "      <td>247630 57.03%</td>\n",
       "    </tr>\n",
       "    <tr>\n",
       "      <td>2</td>\n",
       "      <td>0</td>\n",
       "      <td>Владимир, Ленинская</td>\n",
       "      <td>103259</td>\n",
       "      <td>99200</td>\n",
       "      <td>0</td>\n",
       "      <td>0</td>\n",
       "      <td>41672</td>\n",
       "      <td>1493</td>\n",
       "      <td>56035</td>\n",
       "      <td>1493</td>\n",
       "      <td>41656</td>\n",
       "      <td>2172</td>\n",
       "      <td>40977</td>\n",
       "      <td>0</td>\n",
       "      <td>0</td>\n",
       "      <td>NaN</td>\n",
       "      <td>15707 36.40%</td>\n",
       "      <td>25270 58.56%</td>\n",
       "    </tr>\n",
       "    <tr>\n",
       "      <td>3</td>\n",
       "      <td>1</td>\n",
       "      <td>Владимир, Октябрьская</td>\n",
       "      <td>86050</td>\n",
       "      <td>61328</td>\n",
       "      <td>0</td>\n",
       "      <td>0</td>\n",
       "      <td>33280</td>\n",
       "      <td>1955</td>\n",
       "      <td>26093</td>\n",
       "      <td>1955</td>\n",
       "      <td>33276</td>\n",
       "      <td>2053</td>\n",
       "      <td>33178</td>\n",
       "      <td>0</td>\n",
       "      <td>0</td>\n",
       "      <td>NaN</td>\n",
       "      <td>13368 37.94%</td>\n",
       "      <td>19810 56.23%</td>\n",
       "    </tr>\n",
       "    <tr>\n",
       "      <td>4</td>\n",
       "      <td>2</td>\n",
       "      <td>Владимир, Фрунзенская</td>\n",
       "      <td>87812</td>\n",
       "      <td>73600</td>\n",
       "      <td>0</td>\n",
       "      <td>0</td>\n",
       "      <td>32012</td>\n",
       "      <td>1312</td>\n",
       "      <td>40276</td>\n",
       "      <td>1304</td>\n",
       "      <td>31966</td>\n",
       "      <td>2798</td>\n",
       "      <td>30472</td>\n",
       "      <td>0</td>\n",
       "      <td>0</td>\n",
       "      <td>NaN</td>\n",
       "      <td>11091 33.34%</td>\n",
       "      <td>19381 58.25%</td>\n",
       "    </tr>\n",
       "    <tr>\n",
       "      <td>5</td>\n",
       "      <td>3</td>\n",
       "      <td>Гусь-Хрустальная городская</td>\n",
       "      <td>53005</td>\n",
       "      <td>38800</td>\n",
       "      <td>0</td>\n",
       "      <td>0</td>\n",
       "      <td>15550</td>\n",
       "      <td>1383</td>\n",
       "      <td>21867</td>\n",
       "      <td>1383</td>\n",
       "      <td>15550</td>\n",
       "      <td>788</td>\n",
       "      <td>16145</td>\n",
       "      <td>0</td>\n",
       "      <td>0</td>\n",
       "      <td>NaN</td>\n",
       "      <td>5759 34.01%</td>\n",
       "      <td>10386 61.34%</td>\n",
       "    </tr>\n",
       "  </tbody>\n",
       "</table>\n",
       "</div>"
      ],
      "text/plain": [
       "   index                         tik  \\\n",
       "1      2                       Сумма   \n",
       "2      0         Владимир, Ленинская   \n",
       "3      1       Владимир, Октябрьская   \n",
       "4      2       Владимир, Фрунзенская   \n",
       "5      3  Гусь-Хрустальная городская   \n",
       "\n",
       "  Число избирателей, внесенных в список на момент окончания голосования  \\\n",
       "1                                            1134328                      \n",
       "2                                             103259                      \n",
       "3                                              86050                      \n",
       "4                                              87812                      \n",
       "5                                              53005                      \n",
       "\n",
       "  Число бюллетеней, полученных участковой комиссией  \\\n",
       "1                                           1023335   \n",
       "2                                             99200   \n",
       "3                                             61328   \n",
       "4                                             73600   \n",
       "5                                             38800   \n",
       "\n",
       "  Число бюллетеней, выданных избирателям, проголосовавшим досрочно, в том числе:  \\\n",
       "1                                                  0                               \n",
       "2                                                  0                               \n",
       "3                                                  0                               \n",
       "4                                                  0                               \n",
       "5                                                  0                               \n",
       "\n",
       "  число бюллетеней, выданных избирателям, проголосовавшим досрочно в помещении территориальной комиссии  \\\n",
       "1                                                  0                                                      \n",
       "2                                                  0                                                      \n",
       "3                                                  0                                                      \n",
       "4                                                  0                                                      \n",
       "5                                                  0                                                      \n",
       "\n",
       "  Число бюллетеней, выданных избирателям в помещении для голосования в день голосования  \\\n",
       "1                                             392247                                      \n",
       "2                                              41672                                      \n",
       "3                                              33280                                      \n",
       "4                                              32012                                      \n",
       "5                                              15550                                      \n",
       "\n",
       "  Число бюллетеней, выданных избирателям, проголосовавшим вне помещения для голосования в день голосования  \\\n",
       "1                                              42037                                                         \n",
       "2                                               1493                                                         \n",
       "3                                               1955                                                         \n",
       "4                                               1312                                                         \n",
       "5                                               1383                                                         \n",
       "\n",
       "  Число погашенных бюллетеней  \\\n",
       "1                      589051   \n",
       "2                       56035   \n",
       "3                       26093   \n",
       "4                       40276   \n",
       "5                       21867   \n",
       "\n",
       "  Число бюллетеней, содержащихся в переносных ящиках для голосования  \\\n",
       "1                                              42028                   \n",
       "2                                               1493                   \n",
       "3                                               1955                   \n",
       "4                                               1304                   \n",
       "5                                               1383                   \n",
       "\n",
       "  Число бюллетеней, содержащихся в стационарных ящиках для голосования  \\\n",
       "1                                             392159                     \n",
       "2                                              41656                     \n",
       "3                                              33276                     \n",
       "4                                              31966                     \n",
       "5                                              15550                     \n",
       "\n",
       "  Число недействительных бюллетеней Число действительных бюллетеней  \\\n",
       "1                             23918                          410269   \n",
       "2                              2172                           40977   \n",
       "3                              2053                           33178   \n",
       "4                              2798                           30472   \n",
       "5                               788                           16145   \n",
       "\n",
       "  Число утраченных бюллетеней Число бюллетеней, не учтенных при получении  \\\n",
       "1                           0                                           0   \n",
       "2                           0                                           0   \n",
       "3                           0                                           0   \n",
       "4                           0                                           0   \n",
       "5                           0                                           0   \n",
       "\n",
       "   tik Орлова Светлана Юрьевна Сипягин Владимир Владимирович  \n",
       "1  NaN           162639 37.46%                 247630 57.03%  \n",
       "2  NaN            15707 36.40%                  25270 58.56%  \n",
       "3  NaN            13368 37.94%                  19810 56.23%  \n",
       "4  NaN            11091 33.34%                  19381 58.25%  \n",
       "5  NaN             5759 34.01%                  10386 61.34%  "
      ]
     },
     "execution_count": 2,
     "metadata": {},
     "output_type": "execute_result"
    }
   ],
   "source": [
    "import pandas as pd\n",
    "import requests\n",
    "from bs4 import BeautifulSoup\n",
    "import numpy as np\n",
    "# Пользователь должен ввести ссылку на сводную таблицу результатов выборов по региону\n",
    "url =  input (\"Введите ссылку на страницу с результами выборов\")\n",
    "page = requests.get(url)\n",
    "soup = BeautifulSoup(page.text)\n",
    "def pars():\n",
    "    table = soup.findAll('table', \n",
    "                     {'style': 'width:100%;border-color:#000000'})[0]\n",
    "     # выберем из длинного списка выше таблицу с индексом 1\n",
    "     # здесь данные по всей ТИК\n",
    "\n",
    "    first = pd.read_html(str(table))[1]\n",
    "    \n",
    "    # транспонируем, чтобы по столбцам шли названия показателей\n",
    "\n",
    "    part1 = pd.read_html(str(table))[1].T\n",
    "    \n",
    "    pd.read_html(str(table))[2]\n",
    "   \n",
    "    part2 = pd.read_html(str(table))[2].T\n",
    " # склеиваем две части\n",
    "    final = pd.concat([part1, part2])\n",
    "    final\n",
    "\n",
    " # убираем строку 0\n",
    "    final = final.iloc[1:, :]\n",
    "    final\n",
    "\n",
    " # новую строку 0 используем как названия столбцов \n",
    "    final.columns = final.iloc[0, :]\n",
    "    final\n",
    "\n",
    " # вместо nan называем первый столбец УИК\n",
    "    final.rename(columns = {np.nan: 'tik'}, inplace=True)\n",
    "    final\n",
    "    final = final.reset_index()\n",
    "    final\n",
    "  \n",
    " # убираем строку 0\n",
    "    final = final.iloc[1:, :]\n",
    "    left = final.iloc[:, 0]\n",
    "    right = final.iloc[:, 1:]\n",
    "    result = pd.concat([left, right], axis=1)\n",
    "    return result\n",
    "result = pars()\n",
    "result = pd.DataFrame(result)\n",
    "pd.options.display.max_rows = 100\n",
    "result.head()"
   ]
  },
  {
   "cell_type": "code",
   "execution_count": 3,
   "metadata": {},
   "outputs": [
    {
     "data": {
      "text/plain": [
       "'Повторное голосование по выборам Губернатора Владимирской области'"
      ]
     },
     "execution_count": 3,
     "metadata": {},
     "output_type": "execute_result"
    }
   ],
   "source": [
    "#выбираем название выборов\n",
    "name_election = soup.select(\"tr:nth-of-type(2) .headers b\")\n",
    "name_elect = str(name_election[0].text)\n",
    "name_elect"
   ]
  },
  {
   "cell_type": "code",
   "execution_count": 6,
   "metadata": {},
   "outputs": [
    {
     "name": "stdout",
     "output_type": "stream",
     "text": [
      "38.28\n"
     ]
    }
   ],
   "source": [
    "#расчитываем явку на выборах\n",
    "o = int(final_df.loc[1,'Число недействительных бюллетеней']) + int(final_df.loc[1,'Число действительных бюллетеней'])\n",
    "a = int(final_df.loc[1,'Число избирателей, внесенных в список на момент окончания голосования'])\n",
    "yavka = o/a\n",
    "yavka = yavka *100\n",
    "yavka = round(yavka,2)\n",
    "print(yavka)\n"
   ]
  },
  {
   "cell_type": "code",
   "execution_count": 63,
   "metadata": {},
   "outputs": [
    {
     "name": "stdout",
     "output_type": "stream",
     "text": [
      "Введите ФИО первого кандидата:Сипягин Владимир Владимирович\n",
      "Введите ФИО второго кандидата:Орлова Светлана Юрьевна\n"
     ]
    }
   ],
   "source": [
    "hero1 = input(\"Введите ФИО первого кандидата:\")\n",
    "name1_df = result[hero1].str.split(expand=True)\n",
    "name1_df.columns=['hero1_values','hero1_procent']\n",
    "name1_df= pd.DataFrame(name1_df)\n",
    "name1_df\n",
    "hero2 = input(\"Введите ФИО второго кандидата:\")\n",
    "name2_df = result[hero2].str.split(expand=True)\n",
    "name2_df.columns = ['hero2_values','hero2_procent']\n",
    "name2_df = pd.DataFrame(name2_df)\n",
    "name2_df\n",
    "name1_df['hero1_values']= name1_df['hero1_values'].astype(int)\n",
    "name2_df['hero2_values']= name2_df['hero2_values'].astype(int)\n",
    "name1_df['hero1_procent']= name1_df['hero1_procent'].str.strip(\"%\").astype(float)\n",
    "name2_df['hero2_procent']= name2_df['hero2_procent'].str.strip(\"%\").astype(float)\n",
    "final_df = pd.concat([result,name1_df,name2_df],axis=1)"
   ]
  },
  {
   "cell_type": "code",
   "execution_count": 64,
   "metadata": {},
   "outputs": [
    {
     "name": "stdout",
     "output_type": "stream",
     "text": [
      "Побеждает:  Сипягин Владимир Владимирович 57.03 ('Киржачская', 76.24, 'Гороховецкая', 43.89)\n",
      "Проигравает:  Орлова Светлана Юрьевна 37.46 ('Гороховецкая', 52.74, 'Киржачская', 18.68)\n",
      "Общее число недействительных избирательных бюллетеней:  23918\n",
      "18.68\n"
     ]
    }
   ],
   "source": [
    "# достаем переменные из датафрэйма\n",
    "# результаты первого и второго кандидатов, находит минимальные и максимальные значения для проигравшего и выигравшего кандидатов\n",
    "procent1 = final_df.loc[1,'hero1_procent']\n",
    "procent2 = final_df.loc[1,'hero2_procent']\n",
    "hero1_min = final_df.hero1_procent.min()\n",
    "hero1_max = final_df.hero1_procent.max()\n",
    "hero2_min = final_df.hero2_procent.min()\n",
    "hero2_max = final_df.hero2_procent.max()\n",
    "#Находим значения индексов и названия регионов с наихудшим и наилучшим результатом для кандидатов\n",
    "def heroi1():\n",
    "    index_min1 = final_df.index[final_df['hero1_procent'] == hero1_min][0]\n",
    "    index_min1 = index_min1 - 1\n",
    "    pl_min1 = final_df.iloc[index_min1,1]\n",
    "    index_max1 = final_df.index[final_df['hero1_procent'] == hero1_max][0]\n",
    "    index_max1 = index_max1 - 1\n",
    "    pl_max1 = final_df.iloc[index_max1,1]\n",
    "    return pl_max1,hero1_max, pl_min1,hero1_min\n",
    "pl_max1,hero1_max, pl_min1,hero1_min = heroi1()\n",
    "def heroi2():\n",
    "    index_min2= final_df.index[final_df['hero2_procent'] == hero2_min][0]\n",
    "    index_min2 = index_min2 - 1\n",
    "    pl_min2 = final_df.iloc[index_min2,1]\n",
    "    #print(pl_min2)\n",
    "    index_max2 = final_df.index[final_df['hero2_procent'] == hero2_max][0]\n",
    "    index_max2 = index_max2 - 1\n",
    "    pl_max2 = final_df.iloc[index_max2,1]\n",
    "    #print(pl_max2)\n",
    "    return pl_max2,hero2_max, pl_min2,hero2_min\n",
    "pl_max2,hero2_max, pl_min2,hero2_min = heroi2()\n",
    "#находим регионы в таблице в зависимости от того, кто из двух кандидатов, выбранных пользователем является победителем, а кто проигравшим\n",
    "if procent1>procent2:\n",
    "    loser = heroi2()\n",
    "    winner = heroi1()\n",
    "    procent1_min = hero1_min\n",
    "    procent2_min = hero2_min\n",
    "    region2_min = pl_min2\n",
    "    region1_min = pl_min1\n",
    "else: \n",
    "    hero1,hero2 = hero2,hero1\n",
    "    procent1,procent2 = procent2,procent1\n",
    "    loser = heroi1()\n",
    "    winner = heroi2()\n",
    "    region2_min = pl_min1\n",
    "    region1_min = pl_min2\n",
    "    procent1_min = hero2_min\n",
    "    procent2_min = hero1_min\n",
    "print(\"Побеждает: \", hero1,procent1,winner)\n",
    "print(\"Проигравает: \",hero2,procent2,loser)\n",
    "#находим общее число недействительных бюллетеней\n",
    "nb = final_df.loc[1,'Число недействительных бюллетеней']\n",
    "print(\"Общее число недействительных избирательных бюллетеней: \", nb)\n",
    "print(procent2_min)"
   ]
  },
  {
   "cell_type": "code",
   "execution_count": 49,
   "metadata": {
    "scrolled": true
   },
   "outputs": [
    {
     "name": "stdout",
     "output_type": "stream",
     "text": [
      "Requirement already satisfied: pymorphy2 in /opt/anaconda3/lib/python3.7/site-packages (0.8)\n",
      "Requirement already satisfied: dawg-python>=0.7 in /opt/anaconda3/lib/python3.7/site-packages (from pymorphy2) (0.7.2)\n",
      "Requirement already satisfied: pymorphy2-dicts<3.0,>=2.4 in /opt/anaconda3/lib/python3.7/site-packages (from pymorphy2) (2.4.393442.3710985)\n",
      "Requirement already satisfied: docopt>=0.6 in /opt/anaconda3/lib/python3.7/site-packages (from pymorphy2) (0.6.2)\n",
      "Note: you may need to restart the kernel to use updated packages.\n"
     ]
    }
   ],
   "source": [
    "pip install pymorphy2"
   ]
  },
  {
   "cell_type": "code",
   "execution_count": 65,
   "metadata": {},
   "outputs": [
    {
     "data": {
      "text/plain": [
       "'Киржачском'"
      ]
     },
     "execution_count": 65,
     "metadata": {},
     "output_type": "execute_result"
    }
   ],
   "source": [
    "#Импортируем модуль Pymorphy2 и ставим фамилии кандидатов в нужные формы. Преобразуем названия ТИК в названия районов.\n",
    "import pymorphy2 as pm2\n",
    "morph = pm2.MorphAnalyzer()\n",
    "\n",
    "p = morph.parse(region2_min)[0]\n",
    "region2 = p.inflect({'loct','masc'})[0]\n",
    "region2 = region2.title()\n",
    "region2"
   ]
  },
  {
   "cell_type": "code",
   "execution_count": 121,
   "metadata": {},
   "outputs": [
    {
     "data": {
      "text/plain": [
       "'Светланы Орловой'"
      ]
     },
     "execution_count": 121,
     "metadata": {},
     "output_type": "execute_result"
    }
   ],
   "source": [
    "def names(hero2):\n",
    "    name2 = hero2.split()\n",
    "    names2 = name2[1]+\" \"+name2[0]\n",
    "    return names2\n",
    "names2 = names(hero2)\n",
    "names02 = names(hero2)\n",
    "names2 = names2.split()\n",
    "imya2 = names2[0]\n",
    "family2 = names2[1]\n",
    "familia2 = family2\n",
    "imya2 = morph.parse(imya2)[0]\n",
    "family2 = morph.parse(family2)[0]\n",
    "if {'masc'} in imya2.tag:\n",
    "    imya2 = imya2.inflect({'accs','masc'})[0]\n",
    "    family2 = family2.inflect({'accs','masc'})[0]\n",
    "elif {'femn'} in imya2.tag:\n",
    "    imya2 = imya2.inflect({'accs','femn'})[0]\n",
    "    family2 = family2.inflect({'accs','femn'})[0]\n",
    "imyav2 = morph.parse(imya2)[0]\n",
    "familyv2 = morph.parse(family2)[0]\n",
    "if {'masc'} in imyav2.tag:\n",
    "    imyav2 = imyav2.inflect({'gent','masc'})[0]\n",
    "    familyv2 = familyv2.inflect({'gent','masc'})[0]\n",
    "elif {'femn'} in imyav2.tag:\n",
    "    imyav2 = imyav2.inflect({'gent','femn'})[0]\n",
    "    familyv2 = familyv2.inflect({'gent','femn'})[0]\n",
    "imya2 = imya2.title()\n",
    "family2 = family2.title()\n",
    "names2 = imya2 +\" \"+ family2\n",
    "names2\n",
    "imyav2 = imyav2.title()\n",
    "familyv2 = familyv2.title()\n",
    "namesv2 = imyav2 +\" \"+ familyv2\n",
    "namesv2"
   ]
  },
  {
   "cell_type": "code",
   "execution_count": 21,
   "metadata": {},
   "outputs": [],
   "source": [
    "#Переменные для шаблонов\n",
    "#yavka - общая явка на выборах\n",
    "#name_elect - название выборов в Им.пад\n",
    "#names01 - имя первого кандидата(в формате имя, фамилия), Им.пад\n",
    "#names02 - имя второго кандидата(в формате имя, фамилия), Им.пад\n",
    "#familia2 - фамилия второго кандидата, Им. пад\n",
    "#family2 - фамилия второго кандидата, В. пад\n",
    "#region1 - название района с минимальным результатом для первого кандидата, Предл.пад\n",
    "#region2 - название района с минимальным результатом для второго кандидата, Предл. пад\n",
    "#procent1 - общий процент голосов, набранный первым кандидатом\n",
    "#procent2 - общий процент голосов, набранный вторым кандидатом\n",
    "#procent1_min - минимальный процент голосов, набранный первым кандидатом\n",
    "#procent2_min - минимальный процент голосов, набранный вторым кандидатом\n",
    "#procent1_max - максимальный процент голосов, набранный первым кандидатом\n",
    "#procent2_max - максимальный процент голосов, набранный вторым кандидатом"
   ]
  },
  {
   "cell_type": "code",
   "execution_count": 67,
   "metadata": {},
   "outputs": [
    {
     "data": {
      "text/plain": [
       "'Повторное голосование по выборам Губернатора Владимирской области. Владимир Сипягин опережает Светлану Орлову. После подсчёта всех протоколов избирательных комиссий Владимир Сипягин получает 57.03% голосов избирателей. Самое маленькое число голосов 18.68% – Орлова набирает в Киржачском районе.'"
      ]
     },
     "execution_count": 67,
     "metadata": {},
     "output_type": "execute_result"
    }
   ],
   "source": [
    "#Итоговый генератор. Возможен как данный вариант, так и подгрузка шаблона в переменную\n",
    "itog = '{0}. {1} опережает {2}. После подсчёта всех протоколов избирательных комиссий {3} получает {4}% голосов избирателей. Самое маленькое число голосов {5}% – {6} набирает в {7} районе.'.format(name_elect,names1,names2,names1,procent1,procent2_min,familia2,region2)\n",
    "itog"
   ]
  },
  {
   "cell_type": "code",
   "execution_count": 122,
   "metadata": {},
   "outputs": [
    {
     "data": {
      "text/plain": [
       "'Светлана Орлова набирает в Киржачском районе 18.68% голосов избирателей.Владимир Сипягин обгоняет Светлану Орлову на Повторное голосование по выборам Губернатора Владимирской области c результатом 57.03%. Орлова получает 37.46% голосов избирателей. При этом худший результат Орловой в Киржачском районе. Явка на этих выборах составила 38.28%.'"
      ]
     },
     "execution_count": 122,
     "metadata": {},
     "output_type": "execute_result"
    }
   ],
   "source": [
    "itogi2 = \"{0} набирает в {1} районе {2}% голосов избирателей.{3} обгоняет {4} на {5} c результатом {6}%. {7} получает {8}% голосов избирателей. При этом худший результат {9} в {10} районе. Явка на этих выборах составила {11}%.\"\n",
    "itogi2.format(names02,region2,procent2_min,names1,names2,name_elect,procent1,familia2,procent2,familyv2,region2,yavka)\n"
   ]
  },
  {
   "cell_type": "code",
   "execution_count": null,
   "metadata": {},
   "outputs": [],
   "source": []
  }
 ],
 "metadata": {
  "kernelspec": {
   "display_name": "Python 3",
   "language": "python",
   "name": "python3"
  },
  "language_info": {
   "codemirror_mode": {
    "name": "ipython",
    "version": 3
   },
   "file_extension": ".py",
   "mimetype": "text/x-python",
   "name": "python",
   "nbconvert_exporter": "python",
   "pygments_lexer": "ipython3",
   "version": "3.7.4"
  }
 },
 "nbformat": 4,
 "nbformat_minor": 2
}
